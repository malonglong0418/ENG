{
 "cells": [
  {
   "cell_type": "code",
   "execution_count": 1,
   "metadata": {},
   "outputs": [
    {
     "name": "stdout",
     "output_type": "stream",
     "text": [
      "3.9.2\n"
     ]
    }
   ],
   "source": [
    "from ggs import *\n",
    "from scipy.io import loadmat\n",
    "%matplotlib widget\n",
    "# %matplotlib notebook\n",
    "# %matplotlib inline\n",
    "import matplotlib.pyplot as plt\n",
    "import ipywidgets as widgets\n",
    "import numpy as np\n",
    "import pandas as pd\n",
    "import csv\n",
    "import openpyxl\n",
    "import os\n",
    "import pickle\n",
    "import datetime\n",
    "from scipy import signal\n",
    "from detecta import detect_peaks\n",
    "import matrixprofile as mp\n",
    "from scipy.spatial.distance import euclidean\n",
    "from scipy.spatial.distance import mahalanobis\n",
    "from scipy.spatial.distance import minkowski\n",
    "from fastdtw import fastdtw\n",
    "import subprocess\n",
    "from dtw import dtw\n",
    "from IPython.display import Image\n",
    "\n",
    "import warnings\n",
    "warnings.simplefilter(\"ignore\")\n",
    "from platform import python_version\n",
    "print(python_version())"
   ]
  },
  {
   "cell_type": "markdown",
   "metadata": {},
   "source": [
    "# Read Wrist and Annotation Data"
   ]
  },
  {
   "cell_type": "markdown",
   "metadata": {},
   "source": [
    "## Fuctions for Reading the Data"
   ]
  },
  {
   "cell_type": "code",
   "execution_count": 2,
   "metadata": {},
   "outputs": [],
   "source": [
    "def readData(accDir, annotFile):\n",
    "    files = os.listdir(accDir)\n",
    "    files_csv = [f for f in files if f[-3:] == 'csv']\n",
    "    empatica_dict = dict()\n",
    "    for f in files_csv:\n",
    "        data = np.genfromtxt(accDir+f, delimiter=',') # creates numpy array for each Empatica acc csv file\n",
    "        key = int(float(f.strip(\"ACC.csv\")))\n",
    "        empatica_dict[key] = data\n",
    "    tmp = pd.read_excel(annotFile, sheet_name=None)\n",
    "    annot_dict = dict(zip(tmp.keys(), [i.dropna() for i in tmp.values()])) # Remove the rows with NaN values (some with ladder 2 missing)\n",
    "    return empatica_dict, annot_dict\n",
    "\n",
    "def getLabeledDict(empatica_dict, annot_dict, subject_ids):\n",
    "    labeled_dict = {}; taskInd_dict = {}\n",
    "    for id in subject_ids:\n",
    "        start_time = int(empatica_dict[id][0,0])\n",
    "        acc = empatica_dict[id][2:,:]\n",
    "        label = list(map(lambda i: i.replace(\"_end\", \"\").replace(\"_start\", \"\"), annot_dict['P'+ str(id)].taskName.tolist()))\n",
    "        task_time= list(map(lambda i: time.mktime(datetime.datetime.strptime(i[:6] + '20' + i[6:], \"%m/%d/%Y %H:%M:%S\").timetuple()),\n",
    "                            annot_dict['P'+ str(id)].startTime_global.tolist()))\n",
    "        task_ind = [int(x - start_time)*SR for x in task_time]\n",
    "        taskInd_dict[id] = task_ind\n",
    "        label_tmp = np.empty(acc.shape[0], dtype=object)\n",
    "        for i, (j, k) in enumerate(zip(task_ind[0::2], task_ind[1::2])):\n",
    "            tmpInd = 2*i\n",
    "            label_tmp[j:k] = label[tmpInd]\n",
    "        acc_mag = np.sqrt(np.sum(acc**2, axis=1))[:,None]\n",
    "        accel = np.hstack((acc, acc_mag))\n",
    "        labeled_dict[id] = pd.DataFrame(np.hstack((accel, label_tmp.reshape(label_tmp.shape[0],1))), columns=['X', 'Y', 'Z', 'Mag', 'label'])\n",
    "    return labeled_dict, taskInd_dict"
   ]
  },
  {
   "cell_type": "markdown",
   "metadata": {},
   "source": [
    "## Read the Data"
   ]
  },
  {
   "cell_type": "code",
   "execution_count": 3,
   "metadata": {},
   "outputs": [],
   "source": [
    "sepAccDict, sepAnnotDict = readData(accDir='./Data/50_subs/Acc Data/separate/', annotFile='./Data/50_subs/Annotation Data/separate.xlsx')\n",
    "SR=int(sepAccDict[8][1,0])\n",
    "\n",
    "sepSubIDs = list(range(8,45))\n",
    "sepSubIDs.remove(27) # does not have lift\n",
    "sepLabeledDict, sepTaskIndDict = getLabeledDict(sepAccDict, sepAnnotDict, sepSubIDs)"
   ]
  },
  {
   "cell_type": "markdown",
   "metadata": {},
   "source": [
    "### Plotting Function"
   ]
  },
  {
   "cell_type": "code",
   "execution_count": 4,
   "metadata": {},
   "outputs": [],
   "source": [
    "def plotSigAnnot(labeled_dict, taskInd_dict, id, figSize):\n",
    "    acc = ['$a_X$', '$a_Y$', '$a_Z$', '$a_Mag$']\n",
    "    unique_labels = labeled_dict[id].label.unique()[labeled_dict[id].label.unique()!=None]\n",
    "    cols_ = (['r', 'g', 'b', 'm']*5)[:len(unique_labels)]\n",
    "    f, ax = plt.subplots(4,1,figsize=figSize, sharex=True, sharey=True)\n",
    "    for i in range(4):\n",
    "        for j, label in enumerate(unique_labels):\n",
    "            Idx_ = labeled_dict[id][labeled_dict[id].label==unique_labels[j]].index.tolist()\n",
    "            ax[i].plot(Idx_, labeled_dict[id].values[Idx_, i], c=cols_[j])\n",
    "        ax[i].set_title(acc[i], fontsize=15)\n",
    "    return f"
   ]
  },
  {
   "cell_type": "markdown",
   "metadata": {},
   "source": [
    "### Visualize Data in Tab Sets"
   ]
  },
  {
   "cell_type": "code",
   "execution_count": null,
   "metadata": {},
   "outputs": [],
   "source": [
    "sub_tab=[widgets.Output() for i in range(len(sepSubIDs))]\n",
    "tab = widgets.Tab(sub_tab)\n",
    "for i, id in enumerate(sepSubIDs):\n",
    "    tab.set_title(i,\"sub {}\".format(id))\n",
    "    with sub_tab[i]:\n",
    "        f = plotSigAnnot(sepLabeledDict, sepTaskIndDict, id=id, figSize=(13,7))\n",
    "        plt.show(f)\n",
    "display(tab)"
   ]
  },
  {
   "cell_type": "markdown",
   "metadata": {},
   "source": [
    "## Isolate Lift and Apply Filter"
   ]
  },
  {
   "cell_type": "code",
   "execution_count": 4,
   "metadata": {},
   "outputs": [],
   "source": [
    "lift_dict = dict(map(lambda key: (key, sepLabeledDict[key][sepLabeledDict[key].label=='lift'].values[:,:4]), sepLabeledDict.keys())) ## Isolate lift for all subjects\n",
    "######## Apply Filter\n",
    "n=4; fc=0.5; w=fc/(SR/2)\n",
    "b, a = signal.butter(n, w, 'low')\n",
    "lift_filt_dict = dict(map(lambda key: (key, signal.filtfilt(b, a, x=lift_dict[key], axis=0)), lift_dict.keys())) ## filter lift, all columns (aX, aY, aZ, aMag), all subjects"
   ]
  },
  {
   "cell_type": "code",
   "execution_count": 12,
   "metadata": {},
   "outputs": [],
   "source": [
    "def plotFiltered(original_dict, filtered_dict, id, figSize):\n",
    "    acc = ['$a_X$', '$a_Y$', '$a_Z$', '$a_{Mag}$']\n",
    "    f, ax = plt.subplots(4,1,figsize=figSize, sharex=True, sharey=True)\n",
    "    for i in range(4):\n",
    "        ax[i].plot(original_dict[id][:,i], c='b', label=acc[i], alpha=0.5, linewidth=0.5)\n",
    "        ax[i].plot(filtered_dict[id][:,i], c='r', label=acc[i] + ' Filtered', linewidth=2)\n",
    "        ax[i].legend()\n",
    "        ax[i].set_title(acc[i], fontsize=15)\n",
    "    return f"
   ]
  },
  {
   "cell_type": "code",
   "execution_count": 13,
   "metadata": {},
   "outputs": [
    {
     "data": {
      "application/vnd.jupyter.widget-view+json": {
       "model_id": "2b010919ca1e402e8e272687513408f4",
       "version_major": 2,
       "version_minor": 0
      },
      "text/plain": [
       "Tab(children=(Output(), Output(), Output(), Output(), Output(), Output(), Output(), Output(), Output(), Output…"
      ]
     },
     "metadata": {},
     "output_type": "display_data"
    }
   ],
   "source": [
    "sub_tab=[widgets.Output() for i in range(len(lift_dict))]\n",
    "tab = widgets.Tab(sub_tab)\n",
    "for i, id in enumerate(lift_dict.keys()):\n",
    "    tab.set_title(i,\"sub {}\".format(id))\n",
    "    with sub_tab[i]:\n",
    "        f = plotFiltered(lift_dict, lift_filt_dict, id=id, figSize=(13, 15))\n",
    "        plt.show(f)\n",
    "display(tab)"
   ]
  },
  {
   "cell_type": "markdown",
   "metadata": {},
   "source": [
    "# Count number of Reps in Lifting Task (More Aggressive Filtering)"
   ]
  },
  {
   "cell_type": "markdown",
   "metadata": {},
   "source": [
    "## Use MP to Find Motifs (Personalized)"
   ]
  },
  {
   "cell_type": "code",
   "execution_count": null,
   "metadata": {},
   "outputs": [],
   "source": [
    "windowLen=400\n",
    "motif_ = {}\n",
    "dist = {}\n",
    "for key in lift_filt_dict.keys():\n",
    "    sig = lift_filt_dict[key][:,1]\n",
    "    \n",
    "    profile = mp.compute(sig, windows=windowLen)\n",
    "    mots = mp.discover.motifs(profile, k=1, max_neighbors=20, radius=30)\n",
    "    stInd = profile['motifs'][0]['motifs'][0]\n",
    "    motif__ = sig[stInd:stInd+windowLen]\n",
    "\n",
    "    distED = []\n",
    "    for i in range(len(sig)-len(motif__)):\n",
    "        tmpED = euclidean(motif__, sig[i:i+len(motif__)])\n",
    "        distED.append(tmpED)\n",
    "    motif_[key] = motif__\n",
    "    dist[key] = distED\n",
    "outfile = open('./outputs/pickles/first_motifs.pickle', 'wb')\n",
    "pickle.dump(dict(motif_=motif_, dist=dist), outfile)\n",
    "outfile.close()"
   ]
  },
  {
   "cell_type": "code",
   "execution_count": 18,
   "metadata": {},
   "outputs": [
    {
     "data": {
      "application/vnd.jupyter.widget-view+json": {
       "model_id": "900550ec2d184a259acb0a172aab26ff",
       "version_major": 2,
       "version_minor": 0
      },
      "text/plain": [
       "Tab(children=(Output(), Output(), Output(), Output(), Output(), Output(), Output(), Output(), Output(), Output…"
      ]
     },
     "metadata": {},
     "output_type": "display_data"
    }
   ],
   "source": [
    "infile = open('./outputs/pickles/first_motifs.pickle', 'rb')\n",
    "firt_motifs_dict = pickle.load(infile)\n",
    "infile.close()\n",
    "\n",
    "sub_tab=[widgets.Output() for i in range(len(lift_filt_dict))]\n",
    "tab = widgets.Tab(sub_tab)\n",
    "for i, key in enumerate(lift_filt_dict.keys()):\n",
    "    tab.set_title(i,\"sub {}\".format(key))\n",
    "    with sub_tab[i]:\n",
    "        f, ax  = plt.subplots(2,1,figsize=(13,7))\n",
    "        ax[0].plot(firt_motifs_dict['motif_'][key])\n",
    "        ax[0].set_xlim([-100, 500])\n",
    "        ax[1].plot(firt_motifs_dict['dist'][key])\n",
    "        f.show(f)\n",
    "display(tab)"
   ]
  },
  {
   "cell_type": "markdown",
   "metadata": {},
   "source": [
    "# Show difference btw motifs and snippets"
   ]
  },
  {
   "cell_type": "code",
   "execution_count": null,
   "metadata": {},
   "outputs": [],
   "source": [
    "star_time = time.time()\n",
    "windowLen=400\n",
    "motif_ = {}\n",
    "dist = {}\n",
    "for key in lift_filt_dict.keys():\n",
    "    sig = lift_filt_dict[key][:,1]\n",
    "    motif__ = mp.discover.snippets(sig,windowLen)[0]['snippet']\n",
    "    distED = []\n",
    "    for i in range(len(sig)-len(motif__)):\n",
    "        tmpED = euclidean(motif__, sig[i:i+len(motif__)])\n",
    "        distED.append(tmpED)\n",
    "    motif_[key] = motif__\n",
    "    dist[key] = distED\n",
    "outfile = open('./outputs/pickles/snippet_motifs.pickle', 'wb')\n",
    "pickle.dump(dict(motif_=motif_, dist=dist), outfile)\n",
    "outfile.close()\n",
    "print('Elapsed Tiem = {} seconds.'.format(time.time() - start_time))"
   ]
  },
  {
   "cell_type": "code",
   "execution_count": 19,
   "metadata": {},
   "outputs": [
    {
     "data": {
      "application/vnd.jupyter.widget-view+json": {
       "model_id": "d6aad56f74d44357b792cd37e4bb9806",
       "version_major": 2,
       "version_minor": 0
      },
      "text/plain": [
       "Tab(children=(Output(), Output(), Output(), Output(), Output(), Output(), Output(), Output(), Output(), Output…"
      ]
     },
     "metadata": {},
     "output_type": "display_data"
    }
   ],
   "source": [
    "infile = open('./outputs/pickles/snippet_motifs.pickle', 'rb')\n",
    "snippet_dict = pickle.load(infile)\n",
    "infile.close()\n",
    "\n",
    "sub_tab=[widgets.Output() for i in range(len(lift_filt_dict))]\n",
    "tab = widgets.Tab(sub_tab)\n",
    "for i, key in enumerate(lift_filt_dict.keys()):\n",
    "    tab.set_title(i,\"sub {}\".format(key))\n",
    "    with sub_tab[i]:\n",
    "        f, ax  = plt.subplots(2,1,figsize=(12,7))\n",
    "        ax[0].plot(snippet_dict['motif_'][key])\n",
    "        ax[0].set_xlim([-100, 600])\n",
    "        ax[1].plot(snippet_dict['dist'][key])\n",
    "        f.show(f)\n",
    "display(tab)"
   ]
  },
  {
   "cell_type": "markdown",
   "metadata": {},
   "source": [
    "## Compare Motifs and Snippets"
   ]
  },
  {
   "cell_type": "code",
   "execution_count": 14,
   "metadata": {},
   "outputs": [
    {
     "data": {
      "application/vnd.jupyter.widget-view+json": {
       "model_id": "12465b14956b4909b7cb4299a17e28af",
       "version_major": 2,
       "version_minor": 0
      },
      "text/plain": [
       "Tab(children=(Output(), Output(), Output(), Output(), Output(), Output(), Output(), Output(), Output(), Output…"
      ]
     },
     "metadata": {},
     "output_type": "display_data"
    }
   ],
   "source": [
    "sub_tab=[widgets.Output() for i in range(len(lift_filt_dict))]\n",
    "tab = widgets.Tab(sub_tab)\n",
    "for i, key in enumerate(lift_filt_dict.keys()):\n",
    "    tab.set_title(i,\"sub {}\".format(key))\n",
    "    with sub_tab[i]:\n",
    "        f, ax  = plt.subplots(2,1,figsize=(13,7))\n",
    "        ax[0].plot(firt_motifs_dict['dist'][key])\n",
    "        ax[0].set_title('Motifs')\n",
    "        ax[1].plot(snippet_dict['dist'][key])\n",
    "        ax[1].set_title('Snippets')\n",
    "        f.show(f)\n",
    "display(tab)"
   ]
  },
  {
   "cell_type": "markdown",
   "metadata": {},
   "source": [
    "## Use DTW Distance"
   ]
  },
  {
   "cell_type": "code",
   "execution_count": null,
   "metadata": {},
   "outputs": [],
   "source": [
    "start_time = time.time()\n",
    "windowLen=400\n",
    "motif_ = {}\n",
    "dist = {}\n",
    "for key in [23]:\n",
    "    sig = lift_filt_dict[key][:,1]\n",
    "    profile = mp.compute(sig, windows=windowLen)\n",
    "    mots = mp.discover.motifs(profile, k=1, max_neighbors=20, radius=30)\n",
    "    stInd = profile['motifs'][0]['motifs'][0]\n",
    "    motif__ = sig[stInd:stInd+windowLen]\n",
    "\n",
    "    distDTW = []\n",
    "    for i in range(len(sig)-len(motif__)):\n",
    "        tmpDTW, _ = fastdtw(motif__, sig[i:i+len(motif__)], dist=euclidean)\n",
    "        distDTW.append(tmpDTW)\n",
    "    motif_[key] = motif__\n",
    "    dist[key] = distDTW\n",
    "outfile = open('./outputs/pickles/dtw_first_motifs.pickle', 'wb')\n",
    "pickle.dump(dict(motif_=motif_, dist=dist), outfile)\n",
    "outfile.close()\n",
    "print('Elapsed Tiem = {} seconds.'.format(time.time() - start_time))"
   ]
  },
  {
   "cell_type": "code",
   "execution_count": 43,
   "metadata": {},
   "outputs": [
    {
     "name": "stdout",
     "output_type": "stream",
     "text": [
      "23\n"
     ]
    },
    {
     "data": {
      "application/vnd.jupyter.widget-view+json": {
       "model_id": "90579f6d69cc4896a1f50e17bee37676",
       "version_major": 2,
       "version_minor": 0
      },
      "text/plain": [
       "Tab(children=(Output(),), _titles={'0': 'sub 23'})"
      ]
     },
     "metadata": {},
     "output_type": "display_data"
    }
   ],
   "source": [
    "infile = open('./outputs/pickles/dtw_first_motifs.pickle', 'rb')\n",
    "dtw_firt_motifs_dict = pickle.load(infile)\n",
    "infile.close()\n",
    "\n",
    "sub_tab=[widgets.Output() for i in range(len(dtw_firt_motifs_dict['dist']))]\n",
    "tab = widgets.Tab(sub_tab)\n",
    "for i, key in enumerate(dtw_firt_motifs_dict['dist']):\n",
    "    print(key)\n",
    "    tab.set_title(i,\"sub {}\".format(key))\n",
    "    with sub_tab[i]:\n",
    "        f, ax  = plt.subplots(2,1,figsize=(13,7))\n",
    "        ax[0].plot(dtw_firt_motifs_dict['motif_'][key])\n",
    "        ax[0].set_xlim([-100, 500])\n",
    "        ax[1].plot(dtw_firt_motifs_dict['dist'][key])\n",
    "        f.show(f)\n",
    "display(tab)"
   ]
  },
  {
   "cell_type": "markdown",
   "metadata": {},
   "source": [
    "## Subject 23; pick locations on the signal"
   ]
  },
  {
   "cell_type": "code",
   "execution_count": 67,
   "metadata": {},
   "outputs": [
    {
     "data": {
      "application/vnd.jupyter.widget-view+json": {
       "model_id": "20ce82e9cab14737acd7bd01642d8388",
       "version_major": 2,
       "version_minor": 0
      },
      "text/plain": [
       "Canvas(toolbar=Toolbar(toolitems=[('Home', 'Reset original view', 'home', 'home'), ('Back', 'Back to previous …"
      ]
     },
     "metadata": {},
     "output_type": "display_data"
    },
    {
     "data": {
      "text/plain": [
       "[<matplotlib.lines.Line2D at 0x2835eef3250>]"
      ]
     },
     "execution_count": 67,
     "metadata": {},
     "output_type": "execute_result"
    }
   ],
   "source": [
    "infile = open('./outputs/pickles/first_motifs.pickle', 'rb')\n",
    "firt_motifs_dict = pickle.load(infile)\n",
    "infile.close()\n",
    "\n",
    "motif_ = firt_motifs_dict['motif_'][23]\n",
    "dist = firt_motifs_dict['dist'][23]\n",
    "# Detect Valleys\n",
    "\n",
    "f, ax = plt.subplots(3,1,figsize=(13, 7), sharex=True)\n",
    "\n",
    "ax[0].plot(motif_)\n",
    "# ax[0].set_xlim([-200, 800])\n",
    "ax[1].plot(dist)\n",
    "ax[2].plot(lift_filt_dict[23][:,1])"
   ]
  },
  {
   "cell_type": "markdown",
   "metadata": {},
   "source": [
    "## Filterings with different cutt-offs"
   ]
  },
  {
   "cell_type": "code",
   "execution_count": 5,
   "metadata": {},
   "outputs": [],
   "source": [
    "lift_dict = dict(map(lambda key: (key, sepLabeledDict[key][sepLabeledDict[key].label=='lift'].values[:,:4]), sepLabeledDict.keys())) ## Isolate lift for all subjects\n",
    "######## Apply Filter\n",
    "n=4; fc=0.5; w=fc/(SR/2)\n",
    "b, a = signal.butter(n, w, 'low')\n",
    "lift_filt_dict_05 = dict(map(lambda key: (key, signal.filtfilt(b, a, x=lift_dict[key], axis=0)), lift_dict.keys())) ## filter lift, all columns (aX, aY, aZ, aMag), all subjects\n",
    "\n",
    "########\n",
    "n=4; fc=1; w=fc/(SR/2)\n",
    "b, a = signal.butter(n, w, 'low')\n",
    "lift_filt_dict_1 = dict(map(lambda key: (key, signal.filtfilt(b, a, x=lift_dict[key], axis=0)), lift_dict.keys()))\n",
    "\n",
    "########\n",
    "n=4; fc=2; w=fc/(SR/2)\n",
    "b, a = signal.butter(n, w, 'low')\n",
    "lift_filt_dict_2 = dict(map(lambda key: (key, signal.filtfilt(b, a, x=lift_dict[key], axis=0)), lift_dict.keys()))"
   ]
  },
  {
   "cell_type": "code",
   "execution_count": 12,
   "metadata": {},
   "outputs": [
    {
     "data": {
      "application/vnd.jupyter.widget-view+json": {
       "model_id": "68d906713a4a499b8975aafa9e0e19e0",
       "version_major": 2,
       "version_minor": 0
      },
      "text/plain": [
       "Canvas(toolbar=Toolbar(toolitems=[('Home', 'Reset original view', 'home', 'home'), ('Back', 'Back to previous …"
      ]
     },
     "metadata": {},
     "output_type": "display_data"
    },
    {
     "data": {
      "text/plain": [
       "[<matplotlib.lines.Line2D at 0x1f0c2721460>]"
      ]
     },
     "execution_count": 12,
     "metadata": {},
     "output_type": "execute_result"
    }
   ],
   "source": [
    "f, ax = plt.subplots(3,1,figsize=(13,9), sharex=True)\n",
    "\n",
    "ax[0].plot(lift_filt_dict_05[23][:,1])\n",
    "ax[1].plot(lift_filt_dict_1[23][:,1])\n",
    "ax[2].plot(lift_filt_dict_2[23][:,1])"
   ]
  },
  {
   "cell_type": "markdown",
   "metadata": {},
   "source": [
    "## Motif Discovery and Similarity Search with Different Cut-offs (sub 23)"
   ]
  },
  {
   "cell_type": "code",
   "execution_count": 9,
   "metadata": {},
   "outputs": [],
   "source": [
    "windowLen=400\n",
    "\n",
    "sig05 = lift_filt_dict_05[23][:,1]\n",
    "profile = mp.compute(sig05, windows=windowLen)\n",
    "mots = mp.discover.motifs(profile, k=1, max_neighbors=20, radius=30)\n",
    "stInd = profile['motifs'][0]['motifs'][0]\n",
    "motif_05 = sig05[stInd:stInd+windowLen]\n",
    "dist05 = []\n",
    "for i in range(len(sig05)-len(motif_05)):\n",
    "    tmpED = euclidean(motif_05, sig05[i:i+len(motif_05)])\n",
    "    dist05.append(tmpED)\n",
    "\n",
    "\n",
    "sig1 = lift_filt_dict_1[23][:,1]\n",
    "profile = mp.compute(sig1, windows=windowLen)\n",
    "mots = mp.discover.motifs(profile, k=1, max_neighbors=20, radius=30)\n",
    "stInd = profile['motifs'][0]['motifs'][0]\n",
    "motif_1 = sig1[stInd:stInd+windowLen]\n",
    "dist1 = []\n",
    "for i in range(len(sig1)-len(motif_1)):\n",
    "    tmpED = euclidean(motif_1, sig1[i:i+len(motif_1)])\n",
    "    dist1.append(tmpED)\n",
    "\n",
    "\n",
    "sig2 = lift_filt_dict_2[23][:,1]\n",
    "profile = mp.compute(sig2, windows=windowLen)\n",
    "mots = mp.discover.motifs(profile, k=1, max_neighbors=20, radius=30)\n",
    "stInd = profile['motifs'][0]['motifs'][0]\n",
    "motif_2 = sig2[stInd:stInd+windowLen]\n",
    "dist2 = []\n",
    "for i in range(len(sig2)-len(motif_2)):\n",
    "    tmpED = euclidean(motif_2, sig2[i:i+len(motif_2)])\n",
    "    dist2.append(tmpED)"
   ]
  },
  {
   "cell_type": "code",
   "execution_count": 11,
   "metadata": {},
   "outputs": [
    {
     "data": {
      "application/vnd.jupyter.widget-view+json": {
       "model_id": "08af6ba32fc94544af59c888712e8514",
       "version_major": 2,
       "version_minor": 0
      },
      "text/plain": [
       "Canvas(toolbar=Toolbar(toolitems=[('Home', 'Reset original view', 'home', 'home'), ('Back', 'Back to previous …"
      ]
     },
     "metadata": {},
     "output_type": "display_data"
    }
   ],
   "source": [
    "f, ax = plt.subplots(6,1,figsize=(13,15), sharex=True)\n",
    "\n",
    "ax[0].plot(motif_05)\n",
    "ax[1].plot(dist05)\n",
    "\n",
    "ax[2].plot(motif_1)\n",
    "ax[3].plot(dist1)\n",
    "\n",
    "ax[4].plot(motif_2)\n",
    "ax[5].plot(dist2)\n",
    "\n",
    "plt.show()"
   ]
  },
  {
   "cell_type": "code",
   "execution_count": 34,
   "metadata": {},
   "outputs": [
    {
     "data": {
      "text/plain": [
       "dtype('float64')"
      ]
     },
     "execution_count": 34,
     "metadata": {},
     "output_type": "execute_result"
    }
   ],
   "source": [
    "sig05 = sig05.astype('float')\n",
    "motif_05 = motif_05.astype('float')\n",
    "\n",
    "\n",
    "sig1 = sig1.astype('float')\n",
    "motif_1 = motif_1.astype('float')\n",
    "\n",
    "\n",
    "sig2 = sig2.astype('float')\n",
    "motif_2 = motif_2.astype('float')\n",
    "sig2.dtype"
   ]
  },
  {
   "cell_type": "code",
   "execution_count": 15,
   "metadata": {},
   "outputs": [],
   "source": [
    "import mass_ts as mts"
   ]
  },
  {
   "cell_type": "code",
   "execution_count": 40,
   "metadata": {},
   "outputs": [
    {
     "data": {
      "application/vnd.jupyter.widget-view+json": {
       "model_id": "a5a1d5bb32bd462a9fea8bbac64b7ad7",
       "version_major": 2,
       "version_minor": 0
      },
      "text/plain": [
       "Canvas(toolbar=Toolbar(toolitems=[('Home', 'Reset original view', 'home', 'home'), ('Back', 'Back to previous …"
      ]
     },
     "metadata": {},
     "output_type": "display_data"
    }
   ],
   "source": [
    "distances05 = mts.mass3(sig05, motif_05, 512)\n",
    "distances1 = mts.mass3(sig1, motif_1, 512)\n",
    "distances2 = mts.mass3(sig2, motif_2, 512)\n",
    "\n",
    "f, ax = plt.subplots(3,1,figsize=(13,8), sharex=True, sharey=True)\n",
    "ax[0].plot(distances05)\n",
    "ax[1].plot(distances1)\n",
    "ax[2].plot(distances2)\n",
    "plt.show()"
   ]
  },
  {
   "cell_type": "code",
   "execution_count": null,
   "metadata": {},
   "outputs": [],
   "source": []
  }
 ],
 "metadata": {
  "kernelspec": {
   "display_name": "Python (env_seg-motif-sim)",
   "language": "python",
   "name": "env_seg-motif-sim"
  },
  "language_info": {
   "codemirror_mode": {
    "name": "ipython",
    "version": 3
   },
   "file_extension": ".py",
   "mimetype": "text/x-python",
   "name": "python",
   "nbconvert_exporter": "python",
   "pygments_lexer": "ipython3",
   "version": "3.9.2"
  },
  "toc-autonumbering": true,
  "toc-showcode": false,
  "toc-showmarkdowntxt": false,
  "toc-showtags": false
 },
 "nbformat": 4,
 "nbformat_minor": 4
}
