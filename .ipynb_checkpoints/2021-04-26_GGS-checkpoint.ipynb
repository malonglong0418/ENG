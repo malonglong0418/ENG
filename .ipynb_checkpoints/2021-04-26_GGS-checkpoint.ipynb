{
 "cells": [
  {
   "cell_type": "code",
   "execution_count": 1,
   "id": "charitable-director",
   "metadata": {},
   "outputs": [
    {
     "name": "stdout",
     "output_type": "stream",
     "text": [
      "3.9.2\n"
     ]
    }
   ],
   "source": [
    "import numpy as np\n",
    "# %matplotlib notebook\n",
    "%matplotlib widget\n",
    "import matplotlib.pyplot as plt\n",
    "import seaborn as sn\n",
    "import pandas as pd\n",
    "\n",
    "from scipy import signal\n",
    "import pywt\n",
    "\n",
    "import os\n",
    "import time\n",
    "import datetime\n",
    "import random\n",
    "# import h5py\n",
    "\n",
    "from ggs import *\n",
    "import ipywidgets as widgets\n",
    "\n",
    "from platform import python_version\n",
    "print(python_version())"
   ]
  },
  {
   "cell_type": "code",
   "execution_count": 2,
   "id": "catholic-delay",
   "metadata": {},
   "outputs": [],
   "source": [
    "def readData(accDir, annotFile):\n",
    "    files = os.listdir(accDir)\n",
    "    files_csv = [f for f in files if f[-3:] == 'csv']\n",
    "    empatica_dict = dict()\n",
    "    for f in files_csv:\n",
    "        data = np.genfromtxt(accDir+f, delimiter=',') # creates numpy array for each Empatica acc csv file\n",
    "        key = int(float(f.strip(\"ACC.csv\")))\n",
    "        empatica_dict[key] = data\n",
    "    tmp = pd.read_excel(annotFile, sheet_name=None)\n",
    "    annot_dict = dict(zip(tmp.keys(), [i.dropna() for i in tmp.values()])) # Remove the rows with NaN values (some with ladder 2 missing)\n",
    "    return empatica_dict, annot_dict\n",
    "\n",
    "def getLabeledDict(empatica_dict, annot_dict, subject_ids):\n",
    "    labeled_dict = {}; taskInd_dict = {}\n",
    "    for id in subject_ids:\n",
    "        start_time = int(empatica_dict[id][0,0])\n",
    "        acc = empatica_dict[id][2:,:]\n",
    "        label = list(map(lambda i: i.replace(\"_end\", \"\").replace(\"_start\", \"\"), annot_dict['P'+ str(id)].taskName.tolist()))\n",
    "        task_time= list(map(lambda i: time.mktime(datetime.datetime.strptime(i[:6] + '20' + i[6:], \"%m/%d/%Y %H:%M:%S\").timetuple()),\n",
    "                            annot_dict['P'+ str(id)].startTime_global.tolist()))\n",
    "        task_ind = [int(x - start_time)*SR for x in task_time]\n",
    "        taskInd_dict[id] = task_ind\n",
    "        label_tmp = np.empty(acc.shape[0], dtype=object)\n",
    "        for i, (j, k) in enumerate(zip(task_ind[0::2], task_ind[1::2])):\n",
    "            tmpInd = 2*i\n",
    "            label_tmp[j:k] = label[tmpInd]\n",
    "        acc_mag = np.sqrt(np.sum(acc**2, axis=1))[:,None]\n",
    "        accel = np.hstack((acc, acc_mag))\n",
    "        labeled_dict[id] = pd.DataFrame(np.hstack((accel, label_tmp.reshape(label_tmp.shape[0],1))), columns=['X', 'Y', 'Z', 'Mag', 'label'])\n",
    "    return labeled_dict, taskInd_dict"
   ]
  },
  {
   "cell_type": "code",
   "execution_count": 3,
   "id": "undefined-leather",
   "metadata": {},
   "outputs": [],
   "source": [
    "sepAccDict, sepAnnotDict = readData(accDir='./Data/50_subs/Acc Data/separate/', annotFile='./Data/50_subs/Annotation Data/separate.xlsx')\n",
    "SR=int(sepAccDict[8][1,0])\n",
    "\n",
    "sepSubIDs = list(range(8,45))\n",
    "sepSubIDs.remove(27) # does not have lift\n",
    "sepLabeledDict_, sepTaskIndDict = getLabeledDict(sepAccDict, sepAnnotDict, sepSubIDs)"
   ]
  },
  {
   "cell_type": "markdown",
   "id": "incoming-foster",
   "metadata": {},
   "source": [
    "## Apply Low Pass Filter"
   ]
  },
  {
   "cell_type": "code",
   "execution_count": 4,
   "id": "horizontal-species",
   "metadata": {},
   "outputs": [],
   "source": [
    "# Apply Filter on All Subjects\n",
    "n=4; fc=2; w=fc/(SR/2)\n",
    "b, a = signal.butter(n, w, 'low')\n",
    "sepLabeledDict_filtered = dict(map(lambda key: (key, signal.filtfilt(b, a, x=sepLabeledDict_[key].drop(columns='label'), axis=0)), sepLabeledDict_.keys()))\n",
    "# back to DF and add label\n",
    "sepLabeledDict_filtered_dfs = dict(map(lambda key: (\n",
    "                                                        key, pd.DataFrame(sepLabeledDict_filtered[key],columns=['X', 'Y', 'Z', 'Mag']).assign(label=sepLabeledDict_[key].label)\n",
    "                                                    ), sepLabeledDict_filtered.keys()))\n",
    "# Remove data without label\n",
    "filt_noNA_dict = dict(map(lambda key: (key, sepLabeledDict_filtered_dfs[key].dropna()), sepLabeledDict_filtered_dfs.keys()))"
   ]
  },
  {
   "cell_type": "code",
   "execution_count": 5,
   "id": "cosmetic-texas",
   "metadata": {},
   "outputs": [
    {
     "data": {
      "text/plain": [
       "array(['sit', 'stand', 'walk', 'hoist', 'lift', 'push', 'type', 'ladder1',\n",
       "       'ladder2', 'electricPanel', 'overhead'], dtype=object)"
      ]
     },
     "execution_count": 5,
     "metadata": {},
     "output_type": "execute_result"
    }
   ],
   "source": [
    "filt_noNA_dict[16].label.unique()"
   ]
  },
  {
   "cell_type": "markdown",
   "id": "combined-buying",
   "metadata": {},
   "source": [
    "# GGS"
   ]
  },
  {
   "cell_type": "code",
   "execution_count": 6,
   "id": "senior-penetration",
   "metadata": {},
   "outputs": [],
   "source": [
    "sub = 16\n",
    "# tasks = ['sit', 'stand', 'walk', 'hoist', 'lift', 'ladder1']\n",
    "tasks = ['sit', 'stand', 'walk', 'hoist', 'lift', 'push', 'type', 'ladder1', 'ladder2', 'electricPanel', 'overhead']\n",
    "sig_ = filt_noNA_dict[sub]\n",
    "sig = sig_[sig_.label.isin(tasks)]"
   ]
  },
  {
   "cell_type": "code",
   "execution_count": 7,
   "id": "communist-premises",
   "metadata": {},
   "outputs": [
    {
     "data": {
      "application/vnd.jupyter.widget-view+json": {
       "model_id": "3f50f1b653fd428b888d2661fd40e983",
       "version_major": 2,
       "version_minor": 0
      },
      "text/plain": [
       "Canvas(toolbar=Toolbar(toolitems=[('Home', 'Reset original view', 'home', 'home'), ('Back', 'Back to previous …"
      ]
     },
     "metadata": {},
     "output_type": "display_data"
    }
   ],
   "source": [
    "f, ax = plt.subplots(2,1,figsize=(13, 5))\n",
    "sig_.plot(ax=ax[0])\n",
    "ax[1].plot(sig.X.values, c='r')\n",
    "ax[1].plot(sig.Y.values, c='g')\n",
    "ax[1].plot(sig.Z.values, c='b')\n",
    "plt.show()"
   ]
  },
  {
   "cell_type": "markdown",
   "id": "attended-behalf",
   "metadata": {},
   "source": [
    "# GGS with all labels"
   ]
  },
  {
   "cell_type": "code",
   "execution_count": 8,
   "id": "featured-poster",
   "metadata": {},
   "outputs": [],
   "source": [
    "tasks = ['sit', 'stand', 'walk', 'hoist', 'lift', 'push', 'type', 'ladder1', 'ladder2', 'electricPanel', 'overhead']\n",
    "sub = 16\n",
    "\n",
    "sig__ = filt_noNA_dict[sub]\n",
    "sig_ = sig__[sig__.label.isin(tasks)]\n",
    "sig = sig_.values[:,:3].astype(np.float).T\n",
    "bps, objectives = GGS(sig, Kmax=20, lamb=1e4)"
   ]
  },
  {
   "cell_type": "code",
   "execution_count": 15,
   "id": "helpful-minneapolis",
   "metadata": {},
   "outputs": [
    {
     "name": "stdout",
     "output_type": "stream",
     "text": [
      "[[0, 73057], [0, 61562, 73057], [0, 11583, 61562, 73057], [0, 5760, 17251, 61563, 73057], [0, 88, 5760, 17251, 61563, 73057], [0, 88, 5760, 11580, 17280, 61563, 73057], [0, 88, 5760, 11580, 17280, 61564, 67296, 73057], [0, 88, 5760, 17251, 35406, 48640, 61563, 67296, 73057], [0, 88, 5760, 17251, 35407, 42889, 48640, 61563, 67296, 73057], [0, 88, 5760, 11580, 17280, 35407, 42889, 48640, 61563, 67296, 73057], [0, 88, 5760, 11580, 17280, 27316, 35406, 42889, 48640, 61563, 67296, 73057], [0, 88, 5760, 11580, 17280, 27316, 35406, 42934, 46094, 48640, 61563, 67296, 73057], [0, 88, 5760, 11580, 17280, 27316, 35406, 42934, 46094, 48640, 61562, 67355, 69433, 73057], [0, 88, 5760, 11580, 17280, 27316, 35406, 42934, 46094, 48640, 61563, 66376, 67355, 69433, 73057], [0, 88, 5760, 11580, 17280, 27316, 35406, 42934, 46094, 48640, 61563, 63287, 66148, 67355, 69433, 73057], [0, 88, 5760, 6523, 11570, 17280, 27316, 35406, 42934, 46094, 48640, 61563, 63287, 66148, 67355, 69433, 73057], [0, 88, 5760, 6523, 11570, 17280, 19233, 27316, 35406, 42934, 46094, 48640, 61563, 63287, 66148, 67355, 69433, 73057], [0, 88, 5760, 6523, 11570, 17280, 19233, 27316, 35406, 42934, 46094, 48640, 61563, 63287, 66148, 67322, 69588, 70534, 73057], [0, 88, 5760, 6523, 11570, 17280, 19233, 27316, 35406, 42934, 46094, 48640, 61563, 63287, 66148, 67355, 69430, 69565, 70535, 73057], [0, 88, 5760, 6523, 11570, 17280, 19233, 27316, 35406, 42934, 46094, 48640, 61563, 63287, 66148, 67355, 69430, 69565, 70535, 70883, 73057], [0, 88, 5760, 6523, 11570, 17280, 19233, 27316, 35406, 42934, 46094, 48640, 61563, 63287, 66148, 67355, 69430, 69565, 70535, 70880, 71702, 73057]]\n"
     ]
    }
   ],
   "source": [
    "print(bps)"
   ]
  },
  {
   "cell_type": "code",
   "execution_count": 9,
   "id": "military-variance",
   "metadata": {},
   "outputs": [
    {
     "name": "stdout",
     "output_type": "stream",
     "text": [
      "[0, 88, 5760, 6523, 11570, 17280, 19233, 27316, 35406, 42934, 46094, 48640, 61563, 63287, 66148, 67355, 69430, 69565, 70535, 70880, 71702, 73057]\n"
     ]
    }
   ],
   "source": [
    "len(bps), type(bps[-1]), len(bps[-1])\n",
    "print(bps[-1])"
   ]
  },
  {
   "cell_type": "code",
   "execution_count": 10,
   "id": "accessible-crisis",
   "metadata": {},
   "outputs": [
    {
     "data": {
      "application/vnd.jupyter.widget-view+json": {
       "model_id": "bb8533ec1a304852a001d72607fe7003",
       "version_major": 2,
       "version_minor": 0
      },
      "text/plain": [
       "Canvas(toolbar=Toolbar(toolitems=[('Home', 'Reset original view', 'home', 'home'), ('Back', 'Back to previous …"
      ]
     },
     "metadata": {},
     "output_type": "display_data"
    }
   ],
   "source": [
    "f, ax = plt.subplots(1,figsize=(13,5))\n",
    "ax.plot(sig[0,:], c='r')\n",
    "ax.plot(sig[1,:], c='g')\n",
    "ax.plot(sig[2,:], c='b')\n",
    "ax.set_title('GGS Segments', fontsize=20)\n",
    "for v in bps[-1]:\n",
    "    ax.axvline(v, color='k', linestyle='--')\n",
    "plt.show()"
   ]
  },
  {
   "cell_type": "code",
   "execution_count": 12,
   "id": "still-alabama",
   "metadata": {},
   "outputs": [],
   "source": [
    "segment = bps\n",
    "seg = segment[-1]\n",
    "new_segment = []\n",
    "\n",
    "thresh = 960 # ensure 30 seconds between segments\n",
    "idx = np.where(np.diff(seg) < thresh)[0]\n",
    "cluster_idxs_ = np.split(idx, np.where(np.diff(idx) != 1)[0]+1)\n",
    "clusters_idxs = [np.append(elem, max(elem) + 1) for elem in cluster_idxs_]\n",
    "cluster_vals = [np.array(seg)[idxs] for idxs in clusters_idxs]\n",
    "\n",
    "new_seg_dict = {}\n",
    "new_segs = list(set(seg) - set(np.concatenate(cluster_vals)))\n",
    "for elem in cluster_vals:\n",
    "    if any(elem==0):\n",
    "        new_segs.append(0)\n",
    "    elif any(elem==seg[-1]):\n",
    "        new_segs.append(seg[-1])\n",
    "    else:\n",
    "        for early_seg in segment:\n",
    "            if any((np.array(early_seg)>(min(elem) - 30)) & (np.array(early_seg)<(max(elem) + 30))):\n",
    "                replacement = min(np.array(early_seg)[(np.array(early_seg)>(min(elem) - 30)) & (np.array(early_seg)<(max(elem) + 30))])\n",
    "                new_segs.append(replacement)\n",
    "                break\n",
    "new_seg_dict[sub] = sorted(new_segs)"
   ]
  },
  {
   "cell_type": "code",
   "execution_count": 13,
   "id": "healthy-remove",
   "metadata": {},
   "outputs": [
    {
     "data": {
      "application/vnd.jupyter.widget-view+json": {
       "model_id": "e5a008c8b50b4b3794a3ef487cea6666",
       "version_major": 2,
       "version_minor": 0
      },
      "text/plain": [
       "Canvas(toolbar=Toolbar(toolitems=[('Home', 'Reset original view', 'home', 'home'), ('Back', 'Back to previous …"
      ]
     },
     "metadata": {},
     "output_type": "display_data"
    }
   ],
   "source": [
    "f, ax = plt.subplots(1,figsize=(13,5))\n",
    "ax.plot(sig[0,:], c='r')\n",
    "ax.plot(sig[1,:], c='g')\n",
    "ax.plot(sig[2,:], c='b')\n",
    "ax.set_title('GGS Segments', fontsize=20)\n",
    "for v in new_seg_dict[sub]:\n",
    "    ax.axvline(v, color='k', linestyle='--')\n",
    "plt.show()"
   ]
  },
  {
   "cell_type": "code",
   "execution_count": null,
   "id": "favorite-silence",
   "metadata": {},
   "outputs": [],
   "source": []
  },
  {
   "cell_type": "code",
   "execution_count": null,
   "id": "brown-romantic",
   "metadata": {},
   "outputs": [],
   "source": []
  },
  {
   "cell_type": "markdown",
   "id": "fuzzy-orientation",
   "metadata": {},
   "source": [
    "# Plot Raw GGS Segments"
   ]
  },
  {
   "cell_type": "code",
   "execution_count": 8,
   "id": "metallic-correlation",
   "metadata": {},
   "outputs": [
    {
     "data": {
      "application/vnd.jupyter.widget-view+json": {
       "model_id": "939ac1cff08e45beb62b3fdb942ee881",
       "version_major": 2,
       "version_minor": 0
      },
      "text/plain": [
       "Tab(children=(Output(), Output(), Output(), Output(), Output(), Output(), Output(), Output(), Output(), Output…"
      ]
     },
     "metadata": {},
     "output_type": "display_data"
    },
    {
     "name": "stdout",
     "output_type": "stream",
     "text": [
      "Elapsed time = 4349.599684238434\n"
     ]
    }
   ],
   "source": [
    "start_time = time.time()\n",
    "tasks = ['sit', 'stand', 'walk', 'hoist', 'lift', 'ladder1']\n",
    "subs = list(filt_noNA_dict.keys())\n",
    "sub_tab=[widgets.Output() for i in range(len(subs))]\n",
    "tab = widgets.Tab(sub_tab)\n",
    "for i, sub in enumerate(subs):\n",
    "    \n",
    "    sig__ = filt_noNA_dict[sub]\n",
    "    sig_ = sig__[sig__.label.isin(tasks)]\n",
    "    sig = sig_.values[:,:3].astype(np.float).T\n",
    "    bps, objectives = GGS(sig, Kmax=10, lamb=1e4)\n",
    "    \n",
    "    tab.set_title(i,str(sub))\n",
    "    with sub_tab[i]:\n",
    "        f, ax = plt.subplots(2, 1,figsize=(20,8))\n",
    "        ax[0].plot(sig[0,:], c='r')\n",
    "        ax[0].plot(sig[1,:], c='g')\n",
    "        ax[0].plot(sig[2,:], c='b')\n",
    "        ax[0].set_title('GGS Segments', fontsize=20)\n",
    "        if isinstance(bps[0], list):\n",
    "            for v in bps[6]:\n",
    "                ax[0].axvline(v, color=\"r\")\n",
    "        else:\n",
    "            for v in bps:\n",
    "                ax[0].axvline(v, color=\"r\")\n",
    "        \n",
    "        ax[1].plot(sig[0,:], c='r')\n",
    "        ax[1].plot(sig[1,:], c='g')\n",
    "        ax[1].plot(sig[2,:], c='b')\n",
    "        ax[1].set_title('GGS Segments', fontsize=20)\n",
    "        if isinstance(bps[-1], list):\n",
    "            for v in bps[6]:\n",
    "                ax[1].axvline(v, color=\"r\")\n",
    "        else:\n",
    "            for v in bps:\n",
    "                ax[1].axvline(v, color=\"r\")\n",
    "        plt.show()\n",
    "            \n",
    "display(tab)\n",
    "print('Elapsed time = {}'.format(time.time() - start_time))"
   ]
  },
  {
   "cell_type": "markdown",
   "id": "harmful-friend",
   "metadata": {},
   "source": [
    "# Plot GGS Results from OSC"
   ]
  },
  {
   "cell_type": "code",
   "execution_count": 5,
   "id": "owned-girlfriend",
   "metadata": {},
   "outputs": [
    {
     "data": {
      "application/vnd.jupyter.widget-view+json": {
       "model_id": "9889bb35179c4eb39a1d1196c2b7d1c5",
       "version_major": 2,
       "version_minor": 0
      },
      "text/plain": [
       "Tab(children=(Output(), Output(), Output(), Output(), Output(), Output(), Output(), Output(), Output(), Output…"
      ]
     },
     "metadata": {},
     "output_type": "display_data"
    }
   ],
   "source": [
    "segs = pd.read_pickle('segments.pickle')\n",
    "sub_tab=[widgets.Output() for i in range(len(segs))]\n",
    "tab = widgets.Tab(sub_tab)\n",
    "tasks = ['sit', 'stand', 'walk', 'hoist', 'lift', 'ladder1']\n",
    "for i, sub in enumerate(segs.keys()):\n",
    "    tab.set_title(i,str(sub))\n",
    "    with sub_tab[i]:\n",
    "        sig__ = filt_noNA_dict[sub]\n",
    "        sig_ = sig__[sig__.label.isin(tasks)]\n",
    "        sig = sig_.values[:,:3].astype(np.float).T\n",
    "        \n",
    "        f, ax = plt.subplots(1,figsize=(13,4))\n",
    "        ax.plot(sig[0,:], c='r')\n",
    "        ax.plot(sig[1,:], c='g')\n",
    "        ax.plot(sig[2,:], c='b')\n",
    "        ax.set_title('GGS Segments', fontsize=20)\n",
    "        ax.set_ylim([-150, 100])\n",
    "        for v in segs[sub][-1]:\n",
    "            ax.axvline(v, color=\"r\")\n",
    "        plt.show()\n",
    "display(tab)"
   ]
  },
  {
   "cell_type": "markdown",
   "id": "consolidated-reliance",
   "metadata": {},
   "source": [
    "# Fix close break points"
   ]
  },
  {
   "cell_type": "code",
   "execution_count": 6,
   "id": "elect-sunrise",
   "metadata": {},
   "outputs": [],
   "source": [
    "segments = pd.read_pickle('segments.pickle')\n",
    "new_seg_dict = {}\n",
    "for sub in segments.keys():\n",
    "    segment = segments[sub]\n",
    "    seg = segment[-1]\n",
    "    new_segment = []\n",
    "    \n",
    "    thresh = 960 # ensure 30 seconds between segments\n",
    "    idx = np.where(np.diff(seg) < thresh)[0]\n",
    "    cluster_idxs_ = np.split(idx, np.where(np.diff(idx) != 1)[0]+1)\n",
    "    clusters_idxs = [np.append(elem, max(elem) + 1) for elem in cluster_idxs_]\n",
    "    cluster_vals = [np.array(seg)[idxs] for idxs in clusters_idxs]\n",
    "\n",
    "    new_segs = list(set(seg) - set(np.concatenate(cluster_vals)))\n",
    "    for elem in cluster_vals:\n",
    "        if any(elem==0):\n",
    "            new_segs.append(0)\n",
    "        elif any(elem==seg[-1]):\n",
    "            new_segs.append(seg[-1])\n",
    "        else:\n",
    "            for early_seg in segment:\n",
    "                if any((np.array(early_seg)>(min(elem) - 30)) & (np.array(early_seg)<(max(elem) + 30))):\n",
    "                    replacement = min(np.array(early_seg)[(np.array(early_seg)>(min(elem) - 30)) & (np.array(early_seg)<(max(elem) + 30))])\n",
    "                    new_segs.append(replacement)\n",
    "                    break\n",
    "    new_seg_dict[sub] = sorted(new_segs)"
   ]
  },
  {
   "cell_type": "code",
   "execution_count": 7,
   "id": "stunning-monthly",
   "metadata": {},
   "outputs": [
    {
     "data": {
      "application/vnd.jupyter.widget-view+json": {
       "model_id": "b1066c68dd294b15aa66ea13b8d59a73",
       "version_major": 2,
       "version_minor": 0
      },
      "text/plain": [
       "Tab(children=(Output(), Output(), Output(), Output(), Output(), Output(), Output(), Output(), Output(), Output…"
      ]
     },
     "metadata": {},
     "output_type": "display_data"
    }
   ],
   "source": [
    "segs = new_seg_dict\n",
    "sub_tab=[widgets.Output() for i in range(len(segs))]\n",
    "tab = widgets.Tab(sub_tab)\n",
    "tasks = ['sit', 'stand', 'walk', 'hoist', 'lift', 'ladder1']\n",
    "for i, sub in enumerate(segs.keys()):\n",
    "    tab.set_title(i,str(sub))\n",
    "    with sub_tab[i]:\n",
    "        sig__ = filt_noNA_dict[sub]\n",
    "        sig_ = sig__[sig__.label.isin(tasks)]\n",
    "        sig = sig_.values[:,:3].astype(np.float).T\n",
    "        \n",
    "        f, ax = plt.subplots(1,figsize=(13,4))\n",
    "        ax.plot(sig[0,:], c='r')\n",
    "        ax.plot(sig[1,:], c='g')\n",
    "        ax.plot(sig[2,:], c='b')\n",
    "        ax.set_title('GGS Segments', fontsize=20)\n",
    "        ax.set_ylim([-150, 100])\n",
    "        for v in segs[sub]:\n",
    "            ax.axvline(v, color=\"r\")\n",
    "        plt.show()\n",
    "display(tab)"
   ]
  },
  {
   "cell_type": "code",
   "execution_count": null,
   "id": "deluxe-choir",
   "metadata": {},
   "outputs": [],
   "source": []
  },
  {
   "cell_type": "markdown",
   "id": "multiple-rabbit",
   "metadata": {},
   "source": [
    "# Segments from OSC, all labels included"
   ]
  },
  {
   "cell_type": "code",
   "execution_count": 19,
   "id": "unauthorized-intent",
   "metadata": {},
   "outputs": [],
   "source": [
    "segments = pd.read_pickle('segments_all_labels.pickle')\n",
    "new_seg_dict = {}\n",
    "for sub in segments.keys():\n",
    "    segment = segments[sub]\n",
    "    seg = segment[-1]\n",
    "    new_segment = []\n",
    "    \n",
    "    thresh = 960 # ensure 30 seconds between segments\n",
    "    idx = np.where(np.diff(seg) < thresh)[0]\n",
    "    cluster_idxs_ = np.split(idx, np.where(np.diff(idx) != 1)[0]+1)\n",
    "    clusters_idxs = [np.append(elem, max(elem) + 1) for elem in cluster_idxs_]\n",
    "    cluster_vals = [np.array(seg)[idxs] for idxs in clusters_idxs]\n",
    "\n",
    "    new_segs = list(set(seg) - set(np.concatenate(cluster_vals)))\n",
    "    for elem in cluster_vals:\n",
    "        if any(elem==0):\n",
    "            new_segs.append(0)\n",
    "        elif any(elem==seg[-1]):\n",
    "            new_segs.append(seg[-1])\n",
    "        else:\n",
    "            for early_seg in segment:\n",
    "                if any((np.array(early_seg)>(min(elem) - 30)) & (np.array(early_seg)<(max(elem) + 30))):\n",
    "                    replacement = min(np.array(early_seg)[(np.array(early_seg)>(min(elem) - 30)) & (np.array(early_seg)<(max(elem) + 30))])\n",
    "                    new_segs.append(replacement)\n",
    "                    break\n",
    "    new_seg_dict[sub] = sorted(new_segs)"
   ]
  },
  {
   "cell_type": "code",
   "execution_count": null,
   "id": "golden-service",
   "metadata": {},
   "outputs": [],
   "source": [
    "segs = new_seg_dict\n",
    "sub_tab=[widgets.Output() for i in range(len(segs))]\n",
    "tab = widgets.Tab(sub_tab)\n",
    "# tasks = ['sit', 'stand', 'walk', 'hoist', 'lift', 'ladder1']\n",
    "tasks = ['sit', 'stand', 'walk', 'hoist', 'lift', 'push', 'type', 'ladder1', 'ladder2', 'electricPanel', 'overhead']\n",
    "for i, sub in enumerate(segs.keys()):\n",
    "    tab.set_title(i,str(sub))\n",
    "    with sub_tab[i]:\n",
    "        sig__ = filt_noNA_dict[sub]\n",
    "        sig_ = sig__[sig__.label.isin(tasks)]\n",
    "        sig = sig_.values[:,:3].astype(np.float).T\n",
    "        \n",
    "        f, ax = plt.subplots(1,figsize=(13,4))\n",
    "        ax.plot(sig[0,:], c='r')\n",
    "        ax.plot(sig[1,:], c='g')\n",
    "        ax.plot(sig[2,:], c='b')\n",
    "        ax.set_title('GGS Segments', fontsize=20)\n",
    "        ax.set_ylim([-150, 100])\n",
    "        for v in segs[sub]:\n",
    "            ax.axvline(v, color=\"r\")\n",
    "        plt.show()\n",
    "display(tab)"
   ]
  }
 ],
 "metadata": {
  "kernelspec": {
   "display_name": "Python 3",
   "language": "python",
   "name": "python3"
  },
  "language_info": {
   "codemirror_mode": {
    "name": "ipython",
    "version": 3
   },
   "file_extension": ".py",
   "mimetype": "text/x-python",
   "name": "python",
   "nbconvert_exporter": "python",
   "pygments_lexer": "ipython3",
   "version": "3.9.2"
  }
 },
 "nbformat": 4,
 "nbformat_minor": 5
}
