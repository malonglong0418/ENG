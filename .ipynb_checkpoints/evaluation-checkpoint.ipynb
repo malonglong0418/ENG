{
 "cells": [
  {
   "cell_type": "code",
   "execution_count": 4,
   "id": "indie-currency",
   "metadata": {},
   "outputs": [
    {
     "name": "stdout",
     "output_type": "stream",
     "text": [
      "3.8.8\n"
     ]
    }
   ],
   "source": [
    "import numpy as np\n",
    "import matplotlib.pyplot as plt\n",
    "import ipywidgets as widgets\n",
    "import seaborn as sn\n",
    "import pandas as pd\n",
    "\n",
    "from scipy import signal\n",
    "import pywt\n",
    "\n",
    "import os\n",
    "import time\n",
    "import datetime\n",
    "import random\n",
    "import h5py\n",
    "import pickle\n",
    "import ipywidgets as widgets\n",
    "\n",
    "from ggs import *\n",
    "\n",
    "import cv2 as cv\n",
    "\n",
    "from tensorflow.keras import models\n",
    "from sklearn.preprocessing import LabelEncoder\n",
    "from sklearn.metrics import confusion_matrix, ConfusionMatrixDisplay\n",
    "from sklearn.metrics import classification_report, accuracy_score\n",
    "\n",
    "from platform import python_version\n",
    "print(python_version())\n",
    "import warnings\n",
    "warnings.simplefilter(\"ignore\")"
   ]
  },
  {
   "cell_type": "markdown",
   "id": "cognitive-opening",
   "metadata": {},
   "source": [
    "# Read and Prepare Data"
   ]
  },
  {
   "cell_type": "code",
   "execution_count": 5,
   "id": "disturbed-moscow",
   "metadata": {},
   "outputs": [],
   "source": [
    "def readData(accDir, annotFile):\n",
    "    files = os.listdir(accDir)\n",
    "    files_csv = [f for f in files if f[-3:] == 'csv']\n",
    "    empatica_dict = dict()\n",
    "    for f in files_csv:\n",
    "        data = np.genfromtxt(accDir+f, delimiter=',') # creates numpy array for each Empatica acc csv file\n",
    "        key = int(float(f.strip(\"ACC.csv\")))\n",
    "        empatica_dict[key] = data\n",
    "    tmp = pd.read_excel(annotFile, sheet_name=None)\n",
    "    annot_dict = dict(zip(tmp.keys(), [i.dropna() for i in tmp.values()])) # Remove the rows with NaN values (some with ladder 2 missing)\n",
    "    return empatica_dict, annot_dict\n",
    "\n",
    "def getLabeledDict(empatica_dict, annot_dict, subject_ids, SR):\n",
    "    labeled_dict = {}; taskInd_dict = {}\n",
    "    for id in subject_ids:\n",
    "        start_time = int(empatica_dict[id][0,0])\n",
    "        acc = empatica_dict[id][2:,:]\n",
    "        label = list(map(lambda i: i.replace(\"_end\", \"\").replace(\"_start\", \"\"), annot_dict['P'+ str(id)].taskName.tolist()))\n",
    "        task_time= list(map(lambda i: time.mktime(datetime.datetime.strptime(i[:6] + '20' + i[6:], \"%m/%d/%Y %H:%M:%S\").timetuple()),\n",
    "                            annot_dict['P'+ str(id)].startTime_global.tolist()))\n",
    "        task_ind = [int(x - start_time)*SR for x in task_time]\n",
    "        taskInd_dict[id] = task_ind\n",
    "        label_tmp = np.empty(acc.shape[0], dtype=object)\n",
    "        for i, (j, k) in enumerate(zip(task_ind[0::2], task_ind[1::2])):\n",
    "            tmpInd = 2*i\n",
    "            label_tmp[j:k] = label[tmpInd]\n",
    "        acc_mag = np.sqrt(np.sum(acc**2, axis=1))[:,None]\n",
    "        accel = np.hstack((acc, acc_mag))\n",
    "        labeled_dict[id] = pd.DataFrame(np.hstack((accel, label_tmp.reshape(label_tmp.shape[0],1))), columns=['X', 'Y', 'Z', 'Mag', 'label'])\n",
    "    return labeled_dict, taskInd_dict"
   ]
  },
  {
   "cell_type": "code",
   "execution_count": 6,
   "id": "atomic-bangkok",
   "metadata": {},
   "outputs": [
    {
     "ename": "FileNotFoundError",
     "evalue": "[WinError 3] The system cannot find the path specified: './Data/50_subs/Acc Data/separate/'",
     "output_type": "error",
     "traceback": [
      "\u001b[1;31m---------------------------------------------------------------------------\u001b[0m",
      "\u001b[1;31mFileNotFoundError\u001b[0m                         Traceback (most recent call last)",
      "\u001b[1;32m<ipython-input-6-6a4ac9210329>\u001b[0m in \u001b[0;36m<module>\u001b[1;34m\u001b[0m\n\u001b[1;32m----> 1\u001b[1;33m \u001b[0msepAccDict\u001b[0m\u001b[1;33m,\u001b[0m \u001b[0msepAnnotDict\u001b[0m \u001b[1;33m=\u001b[0m \u001b[0mreadData\u001b[0m\u001b[1;33m(\u001b[0m\u001b[0maccDir\u001b[0m\u001b[1;33m=\u001b[0m\u001b[1;34m'./Data/50_subs/Acc Data/separate/'\u001b[0m\u001b[1;33m,\u001b[0m \u001b[0mannotFile\u001b[0m\u001b[1;33m=\u001b[0m\u001b[1;34m'./Data/50_subs/Annotation Data/separate.xlsx'\u001b[0m\u001b[1;33m)\u001b[0m\u001b[1;33m\u001b[0m\u001b[1;33m\u001b[0m\u001b[0m\n\u001b[0m\u001b[0;32m      2\u001b[0m \u001b[0mSR\u001b[0m\u001b[1;33m=\u001b[0m\u001b[0mint\u001b[0m\u001b[1;33m(\u001b[0m\u001b[0msepAccDict\u001b[0m\u001b[1;33m[\u001b[0m\u001b[1;36m8\u001b[0m\u001b[1;33m]\u001b[0m\u001b[1;33m[\u001b[0m\u001b[1;36m1\u001b[0m\u001b[1;33m,\u001b[0m\u001b[1;36m0\u001b[0m\u001b[1;33m]\u001b[0m\u001b[1;33m)\u001b[0m\u001b[1;33m\u001b[0m\u001b[1;33m\u001b[0m\u001b[0m\n\u001b[0;32m      3\u001b[0m \u001b[1;33m\u001b[0m\u001b[0m\n\u001b[0;32m      4\u001b[0m \u001b[0msepSubIDs\u001b[0m \u001b[1;33m=\u001b[0m \u001b[0mlist\u001b[0m\u001b[1;33m(\u001b[0m\u001b[0mrange\u001b[0m\u001b[1;33m(\u001b[0m\u001b[1;36m8\u001b[0m\u001b[1;33m,\u001b[0m\u001b[1;36m45\u001b[0m\u001b[1;33m)\u001b[0m\u001b[1;33m)\u001b[0m\u001b[1;33m\u001b[0m\u001b[1;33m\u001b[0m\u001b[0m\n\u001b[0;32m      5\u001b[0m \u001b[1;31m# sepSubIDs.remove(27) # does not have lift\u001b[0m\u001b[1;33m\u001b[0m\u001b[1;33m\u001b[0m\u001b[1;33m\u001b[0m\u001b[0m\n",
      "\u001b[1;32m<ipython-input-5-6ee7817bba3e>\u001b[0m in \u001b[0;36mreadData\u001b[1;34m(accDir, annotFile)\u001b[0m\n\u001b[0;32m      1\u001b[0m \u001b[1;32mdef\u001b[0m \u001b[0mreadData\u001b[0m\u001b[1;33m(\u001b[0m\u001b[0maccDir\u001b[0m\u001b[1;33m,\u001b[0m \u001b[0mannotFile\u001b[0m\u001b[1;33m)\u001b[0m\u001b[1;33m:\u001b[0m\u001b[1;33m\u001b[0m\u001b[1;33m\u001b[0m\u001b[0m\n\u001b[1;32m----> 2\u001b[1;33m     \u001b[0mfiles\u001b[0m \u001b[1;33m=\u001b[0m \u001b[0mos\u001b[0m\u001b[1;33m.\u001b[0m\u001b[0mlistdir\u001b[0m\u001b[1;33m(\u001b[0m\u001b[0maccDir\u001b[0m\u001b[1;33m)\u001b[0m\u001b[1;33m\u001b[0m\u001b[1;33m\u001b[0m\u001b[0m\n\u001b[0m\u001b[0;32m      3\u001b[0m     \u001b[0mfiles_csv\u001b[0m \u001b[1;33m=\u001b[0m \u001b[1;33m[\u001b[0m\u001b[0mf\u001b[0m \u001b[1;32mfor\u001b[0m \u001b[0mf\u001b[0m \u001b[1;32min\u001b[0m \u001b[0mfiles\u001b[0m \u001b[1;32mif\u001b[0m \u001b[0mf\u001b[0m\u001b[1;33m[\u001b[0m\u001b[1;33m-\u001b[0m\u001b[1;36m3\u001b[0m\u001b[1;33m:\u001b[0m\u001b[1;33m]\u001b[0m \u001b[1;33m==\u001b[0m \u001b[1;34m'csv'\u001b[0m\u001b[1;33m]\u001b[0m\u001b[1;33m\u001b[0m\u001b[1;33m\u001b[0m\u001b[0m\n\u001b[0;32m      4\u001b[0m     \u001b[0mempatica_dict\u001b[0m \u001b[1;33m=\u001b[0m \u001b[0mdict\u001b[0m\u001b[1;33m(\u001b[0m\u001b[1;33m)\u001b[0m\u001b[1;33m\u001b[0m\u001b[1;33m\u001b[0m\u001b[0m\n\u001b[0;32m      5\u001b[0m     \u001b[1;32mfor\u001b[0m \u001b[0mf\u001b[0m \u001b[1;32min\u001b[0m \u001b[0mfiles_csv\u001b[0m\u001b[1;33m:\u001b[0m\u001b[1;33m\u001b[0m\u001b[1;33m\u001b[0m\u001b[0m\n",
      "\u001b[1;31mFileNotFoundError\u001b[0m: [WinError 3] The system cannot find the path specified: './Data/50_subs/Acc Data/separate/'"
     ]
    }
   ],
   "source": [
    "sepAccDict, sepAnnotDict = readData(accDir='./Data/Acc Data/', annotFile='./Data/Annotation Data/separate.xlsx')\n",
    "SR=int(sepAccDict[8][1,0])\n",
    "\n",
    "sepSubIDs = list(range(8,45))\n",
    "# sepSubIDs.remove(27) # does not have lift\n",
    "sepLabeledDict_, sepTaskIndDict = getLabeledDict(sepAccDict, sepAnnotDict, sepSubIDs, SR)"
   ]
  },
  {
   "cell_type": "markdown",
   "id": "olive-kingdom",
   "metadata": {},
   "source": [
    "## Apply Low Pass Filter"
   ]
  },
  {
   "cell_type": "code",
   "execution_count": null,
   "id": "flush-basic",
   "metadata": {},
   "outputs": [],
   "source": [
    "# Apply Filter on All Subjects\n",
    "n=4; fc=2; w=fc/(SR/2)\n",
    "b, a = signal.butter(n, w, 'low')\n",
    "sepLabeledDict_filtered = dict(map(lambda key: (key, signal.filtfilt(b, a, x=sepLabeledDict_[key].drop(columns='label'), axis=0)), sepLabeledDict_.keys()))\n",
    "# back to DF and add label\n",
    "sepLabeledDict_filtered_dfs = dict(map(lambda key: (\n",
    "                                                        key, pd.DataFrame(sepLabeledDict_filtered[key],columns=['X', 'Y', 'Z', 'Mag']).assign(label=sepLabeledDict_[key].label)\n",
    "                                                    ), sepLabeledDict_filtered.keys()))\n",
    "# Remove data without label\n",
    "filt_noNA_dict = dict(map(lambda key: (key, sepLabeledDict_filtered_dfs[key].dropna()), sepLabeledDict_filtered_dfs.keys()))"
   ]
  },
  {
   "cell_type": "markdown",
   "id": "simplified-rogers",
   "metadata": {},
   "source": [
    "# Input Size"
   ]
  },
  {
   "cell_type": "code",
   "execution_count": 144,
   "id": "optimum-greek",
   "metadata": {},
   "outputs": [],
   "source": [
    "# winLen = 320\n",
    "# window_dict = {}\n",
    "# label_dict = {}\n",
    "# for key in filt_noNA_dict.keys():\n",
    "#     window_list = []\n",
    "#     labels=[]\n",
    "#     for g1, df1 in filt_noNA_dict[key].groupby('label'):\n",
    "#         for g2, df2 in df1.groupby(np.arange(df1.shape[0]) // winLen):\n",
    "#             if df2.shape[0]==winLen:\n",
    "#                 window_list.append(df2.drop(columns=['Mag', 'label']).values)\n",
    "#                 labels.append(g1)\n",
    "#     window_dict[key] = np.array(window_list)\n",
    "#     label_dict[key] = labels\n",
    "\n",
    "# ################################################## Split train-test\n",
    "# random.seed(2021)\n",
    "# percentTrain = 80\n",
    "# all_subs = list(label_dict.keys())\n",
    "# train_subs = random.sample(all_subs, k=int(len(all_subs)*(percentTrain/100)))\n",
    "# test_subs = list(set(all_subs) - set(train_subs))\n",
    "\n",
    "# train_array_list = [window_dict[key] for key in train_subs]\n",
    "# test_array_list = [window_dict[key] for key in test_subs]\n",
    "# train_np = np.concatenate(train_array_list)\n",
    "# test_np = np.concatenate(test_array_list)\n",
    "\n",
    "# train_label__ = [label_dict[key] for key in train_subs]\n",
    "# train_label_ = [item for sublist in train_label__ for item in sublist]\n",
    "# train_label = [item.replace('1', '').replace('2', '') for item in train_label_]\n",
    "# test_label__ = [label_dict[key] for key in test_subs]\n",
    "# test_label_ = [item for sublist in test_label__ for item in sublist]\n",
    "# test_label = [item.replace('1', '').replace('2', '') for item in test_label_]"
   ]
  },
  {
   "cell_type": "code",
   "execution_count": 146,
   "id": "structural-mason",
   "metadata": {},
   "outputs": [
    {
     "data": {
      "text/plain": [
       "((6184, 320, 3), (1755, 320, 3))"
      ]
     },
     "execution_count": 146,
     "metadata": {},
     "output_type": "execute_result"
    }
   ],
   "source": [
    "train_np.shape, test_np.shape"
   ]
  },
  {
   "cell_type": "markdown",
   "id": "strategic-manhattan",
   "metadata": {},
   "source": [
    "## Load and Correct GGS Segments"
   ]
  },
  {
   "cell_type": "code",
   "execution_count": 5,
   "id": "framed-feature",
   "metadata": {},
   "outputs": [],
   "source": [
    "segments = pd.read_pickle('/segments.pickle')\n",
    "new_seg_dict = {}\n",
    "for sub in segments.keys():\n",
    "    segment = segments[sub]\n",
    "    seg = segment[-1]\n",
    "    new_segment = []\n",
    "    \n",
    "    thresh = 960 # ensure 30 seconds between segments\n",
    "    idx = np.where(np.diff(seg) < thresh)[0]\n",
    "    cluster_idxs_ = np.split(idx, np.where(np.diff(idx) != 1)[0]+1)\n",
    "    clusters_idxs = [np.append(elem, max(elem) + 1) for elem in cluster_idxs_]\n",
    "    cluster_vals = [np.array(seg)[idxs] for idxs in clusters_idxs]\n",
    "\n",
    "    new_segs = list(set(seg) - set(np.concatenate(cluster_vals)))\n",
    "    for elem in cluster_vals:\n",
    "        if any(elem==0):\n",
    "            new_segs.append(0)\n",
    "        elif any(elem==seg[-1]):\n",
    "            new_segs.append(seg[-1])\n",
    "        else:\n",
    "            for early_seg in segment:\n",
    "                if any((np.array(early_seg)>(min(elem) - 30)) & (np.array(early_seg)<(max(elem) + 30))):\n",
    "                    replacement = min(np.array(early_seg)[(np.array(early_seg)>(min(elem) - 30)) & (np.array(early_seg)<(max(elem) + 30))])\n",
    "                    new_segs.append(replacement)\n",
    "                    break\n",
    "    new_seg_dict[sub] = sorted(new_segs)"
   ]
  },
  {
   "cell_type": "markdown",
   "id": "seventh-lesson",
   "metadata": {},
   "source": [
    "# Test the Pipeline on Subjects: 8, 9, 10, 11\n",
    "\n",
    "**Steps:**\n",
    "\n",
    "> 1- Extract windows of `10 seconds` within each segment\n",
    "\n",
    "> 2- Perform continuous wavelet transform (`CWT`) in each window (extract features)\n",
    "\n",
    "> 3- Classify each window using the trained `CNN` model\n",
    "\n",
    "> 4- Classify each segment by `voting`\n",
    "\n",
    "> 5- Modify the segments by `merging neighboring windows` of same class\n",
    "\n",
    "> 6- `Count` the repititions in lifting and walking windows"
   ]
  },
  {
   "cell_type": "markdown",
   "id": "french-information",
   "metadata": {},
   "source": [
    "# Load the trained model"
   ]
  },
  {
   "cell_type": "code",
   "execution_count": 6,
   "id": "latin-jones",
   "metadata": {},
   "outputs": [],
   "source": [
    "model = models.load_model('./from osc/2021-07-09/tf_model/')\n",
    "test_subs = pd.read_pickle('./from osc/2021-07-09/test_subs.pickle')\n",
    "history = pd.read_pickle('./from osc/2021-07-09/keras_history.pickle')\n",
    "scaler = pd.read_pickle('./from osc/2021-07-09/scaler.pickle')\n",
    "labels_categorical = ['sit', 'stand', 'walk', 'hoist', 'lift', 'push', 'type', 'ladder', 'electricPanel', 'overhead']\n",
    "labels_encoded = LabelEncoder().fit_transform(labels_categorical).tolist()\n",
    "labels_dict = dict([(numeric_, categorical_) for numeric_, categorical_ in zip(labels_encoded, labels_categorical)])"
   ]
  },
  {
   "cell_type": "markdown",
   "id": "incoming-argentina",
   "metadata": {},
   "source": [
    "## General Model Train and Validation Performance"
   ]
  },
  {
   "cell_type": "code",
   "execution_count": 7,
   "id": "maritime-marijuana",
   "metadata": {},
   "outputs": [
    {
     "data": {
      "image/png": "[encoded data removed]",
      "text/plain": [
       "<Figure size 1440x360 with 1 Axes>"
      ]
     },
     "metadata": {
      "needs_background": "light"
     },
     "output_type": "display_data"
    }
   ],
   "source": [
    "CB_color_cycle = ['#377eb8', '#ff7f00', '#4daf4a', '#f781bf', '#a65628', '#984ea3', '#999999', '#e41a1c', '#dede00']\n",
    "f, ax = plt.subplots(1, figsize=(20, 5))\n",
    "ax.plot(history['accuracy'], c=CB_color_cycle[0], label='Train')\n",
    "ax.plot(history['val_accuracy'], c=CB_color_cycle[4], label='Validation')\n",
    "ax.set_ylim([0.7, 1])\n",
    "ax.set_xlabel('Epoch Number', fontsize=20)\n",
    "ax.set_ylabel('Accuracy', fontsize=20)\n",
    "\n",
    "# ax.plot(history['loss'], c=CB_color_cycle[0], label='Train')\n",
    "# ax.plot(history['val_loss'], c=CB_color_cycle[4], label='Validation')\n",
    "\n",
    "ax.legend(fontsize=15)\n",
    "plt.show()"
   ]
  },
  {
   "cell_type": "code",
   "execution_count": 14,
   "id": "cardiovascular-harbor",
   "metadata": {},
   "outputs": [
    {
     "name": "stdout",
     "output_type": "stream",
     "text": [
      "Train Accuracy:  [0.77377105, 0.9201164, 0.95229626, 0.9679819, 0.9770375, 0.9805951, 0.982859, 0.9843144, 0.98318243, 0.98609316]\n",
      "Validation Accuracy:  [0.84900284, 0.9037037, 0.8991453, 0.90655273, 0.8951567, 0.90997154, 0.9002849, 0.9076923, 0.91509974, 0.91851854]\n"
     ]
    }
   ],
   "source": [
    "print('Train Accuracy: ', history['accuracy'])\n",
    "print('Validation Accuracy: ', history['val_accuracy'])"
   ]
  },
  {
   "cell_type": "code",
   "execution_count": 10,
   "id": "weekly-abortion",
   "metadata": {},
   "outputs": [],
   "source": [
    "cwt_dict = {}\n",
    "label_dict = {}\n",
    "for sub in sorted(test_subs):\n",
    "    tasks = ['sit', 'stand', 'walk', 'hoist', 'lift', 'push', 'type', 'ladder1', 'ladder2', 'electricPanel', 'overhead']\n",
    "    sig_ = filt_noNA_dict[sub]\n",
    "    sig = sig_[sig_.label.isin(tasks)]\n",
    "#     sig.label.replace({'ladder1':'ladder', 'ladder2':'ladder'}, inplace=True)\n",
    "\n",
    "    winLen = 320\n",
    "    scales = range(1,200)\n",
    "    waveletname = 'morl'\n",
    "    cwt_list = []\n",
    "    label_dict[sub] = []\n",
    "    for label, label_df in sig.groupby(by='label'):\n",
    "        for window, window_df in label_df.groupby(by=np.arange(label_df.shape[0])//winLen):\n",
    "            if window_df.shape[0] == winLen:\n",
    "                label_dict[sub].append(label)\n",
    "                ########### cwt transform\n",
    "                tmp = np.zeros((max(scales), winLen, 3))\n",
    "                for i in range(3):\n",
    "                    tmp_sig = window_df.values[:,i]\n",
    "                    coeff, freq = pywt.cwt(tmp_sig, scales, waveletname, 1/SR)\n",
    "                    tmp[:,:,i] = coeff\n",
    "                cwt_list.append(tmp)\n",
    "    cwt_dict[sub] = np.array(cwt_list)\n",
    "    label_dict[sub] = [elem.replace(\"1\", \"\").replace(\"2\", \"\") for elem in label_dict[sub]]"
   ]
  },
  {
   "cell_type": "code",
   "execution_count": 16,
   "id": "incoming-information",
   "metadata": {},
   "outputs": [],
   "source": [
    "scaler = pd.read_pickle('./from osc/2021-07-09/scaler.pickle')\n",
    "pred_labels_dict = {}\n",
    "true_pred_dict = {}\n",
    "for sub in sorted(test_subs):\n",
    "    ############## predict label\n",
    "#     scaler = np.max(cwt_dict[sub])\n",
    "    pred_labels_dict[sub] = {}\n",
    "    pred_label = model.predict(cwt_dict[sub]/scaler)\n",
    "    numeric_pred = np.argmax(pred_label, axis=1)\n",
    "    pred_labels_dict[sub] = [labels_dict[elem] for elem in numeric_pred]\n",
    "    true_pred_dict[sub] = pd.DataFrame({'true': label_dict[sub], 'predicted': pred_labels_dict[sub]})\n",
    "################### Store Reports\n",
    "report_df_dict = {}\n",
    "acc = {}\n",
    "for sub in sorted(test_subs):\n",
    "    report_dict = classification_report(true_pred_dict[sub].true, true_pred_dict[sub].predicted, output_dict=True)\n",
    "    report_df_dict[sub] = pd.DataFrame(report_dict).drop(columns=['macro avg', 'weighted avg'], index='support').round(decimals=2)"
   ]
  },
  {
   "cell_type": "markdown",
   "id": "julian-director",
   "metadata": {},
   "source": [
    "## Visualize Results"
   ]
  },
  {
   "cell_type": "code",
   "execution_count": 17,
   "id": "hairy-timer",
   "metadata": {},
   "outputs": [
    {
     "data": {
      "application/vnd.jupyter.widget-view+json": {
       "model_id": "7c500d385f2546a28cc42cfe6e2cdc6c",
       "version_major": 2,
       "version_minor": 0
      },
      "text/plain": [
       "Tab(children=(Output(), Output(), Output(), Output(), Output(), Output(), Output(), Output()), _titles={'0': '…"
      ]
     },
     "metadata": {},
     "output_type": "display_data"
    }
   ],
   "source": [
    "sub_tab = [widgets.Output() for i in range(len(test_subs))]\n",
    "tab = widgets.Tab(sub_tab)\n",
    "for i, sub in enumerate(sorted(test_subs)):\n",
    "    tab.set_title(i, 'Subject ' + str(sub))\n",
    "    with sub_tab[i]:\n",
    "        cm = confusion_matrix(true_pred_dict[sub].true, true_pred_dict[sub].predicted)#, labels=true_pred_dict[sub].true.unique())\n",
    "        disp = ConfusionMatrixDisplay(confusion_matrix=cm, display_labels=true_pred_dict[sub].true.unique())\n",
    "        fig, ax = plt.subplots(1, figsize=(10, 10))\n",
    "        disp.plot(ax=ax, cmap=plt.cm.Blues)\n",
    "        plt.show()\n",
    "        display(report_df_dict[sub])\n",
    "display(tab)"
   ]
  },
  {
   "cell_type": "markdown",
   "id": "rotary-concentration",
   "metadata": {},
   "source": [
    "## Export Confusion Matrix"
   ]
  },
  {
   "cell_type": "code",
   "execution_count": 344,
   "id": "eleven-genealogy",
   "metadata": {},
   "outputs": [
    {
     "data": {
      "image/png": "[encoded data removed]",
      "text/plain": [
       "<Figure size 504x504 with 1 Axes>"
      ]
     },
     "metadata": {
      "needs_background": "light"
     },
     "output_type": "display_data"
    }
   ],
   "source": [
    "sub = 8\n",
    "cm = confusion_matrix(true_pred_dict[sub].true, true_pred_dict[sub].predicted, labels=true_pred_dict[sub].true.unique())\n",
    "df_cm = pd.DataFrame(cm, index=true_pred_dict[sub].true.unique(), columns=true_pred_dict[sub].true.unique())\n",
    "df_cm.to_csv('./outputs/CNN classification/cm_19.csv')\n",
    "df_cm = df_cm.rename(columns={'electricPanel':'EP', 'hoist':'H', 'ladder':'Ld', 'lift':'Lf', 'overhead':'OH', 'push':'P', 'sit':'St', 'stand':'Sd', 'type':'Tp', 'walk':'W'},\n",
    "             index={'electricPanel':'EP', 'hoist':'H', 'ladder':'Ld', 'lift':'Lf', 'overhead':'OH', 'push':'P', 'sit':'St', 'stand':'Sd', 'type':'Tp', 'walk':'W'})\n",
    "\n",
    "f, ax = plt.subplots(1, figsize=(7,7))\n",
    "sn.heatmap(df_cm, cmap=plt.cm.Blues, annot=True, cbar=False, annot_kws={\"fontsize\":20})\n",
    "ax.tick_params(axis='both', labelsize=20)\n",
    "ax.tick_params(axis='y', rotation=0)\n",
    "ax.set_ylabel('True Label', fontsize=20)\n",
    "ax.set_xlabel('Predicted Label', fontsize=20)\n",
    "ax.set_title( 'Confusion Matrix', fontsize=25)\n",
    "f.tight_layout(pad=0.1)\n",
    "f.savefig('./outputs/cnf_mtrx/cnf ' + str(sub) + '.png')\n",
    "plt.show()"
   ]
  },
  {
   "cell_type": "markdown",
   "id": "disciplinary-publicity",
   "metadata": {},
   "source": [
    "# Export Subject-specific Classification Report"
   ]
  },
  {
   "cell_type": "code",
   "execution_count": 336,
   "id": "generous-harvest",
   "metadata": {},
   "outputs": [],
   "source": [
    "for sub in report_df_dict.keys():\n",
    "    report_df_dict[sub].to_csv('./outputs/CNN classification/' + str(sub) + '.csv')"
   ]
  },
  {
   "cell_type": "code",
   "execution_count": 11,
   "id": "greek-duncan",
   "metadata": {},
   "outputs": [
    {
     "data": {
      "text/html": [
       "<div>\n",
       "<style scoped>\n",
       "    .dataframe tbody tr th:only-of-type {\n",
       "        vertical-align: middle;\n",
       "    }\n",
       "\n",
       "    .dataframe tbody tr th {\n",
       "        vertical-align: top;\n",
       "    }\n",
       "\n",
       "    .dataframe thead th {\n",
       "        text-align: right;\n",
       "    }\n",
       "</style>\n",
       "<table border=\"1\" class=\"dataframe\">\n",
       "  <thead>\n",
       "    <tr style=\"text-align: right;\">\n",
       "      <th></th>\n",
       "      <th>electricPanel</th>\n",
       "      <th>hoist</th>\n",
       "      <th>ladder</th>\n",
       "      <th>lift</th>\n",
       "      <th>overhead</th>\n",
       "      <th>push</th>\n",
       "      <th>sit</th>\n",
       "      <th>stand</th>\n",
       "      <th>type</th>\n",
       "      <th>walk</th>\n",
       "      <th>accuracy</th>\n",
       "    </tr>\n",
       "  </thead>\n",
       "  <tbody>\n",
       "    <tr>\n",
       "      <th>precision</th>\n",
       "      <td>1.00</td>\n",
       "      <td>0.95</td>\n",
       "      <td>1.00</td>\n",
       "      <td>0.77</td>\n",
       "      <td>1.0</td>\n",
       "      <td>1.0</td>\n",
       "      <td>1.00</td>\n",
       "      <td>1.0</td>\n",
       "      <td>0.95</td>\n",
       "      <td>1.0</td>\n",
       "      <td>0.96</td>\n",
       "    </tr>\n",
       "    <tr>\n",
       "      <th>recall</th>\n",
       "      <td>0.94</td>\n",
       "      <td>1.00</td>\n",
       "      <td>0.75</td>\n",
       "      <td>1.00</td>\n",
       "      <td>1.0</td>\n",
       "      <td>1.0</td>\n",
       "      <td>0.94</td>\n",
       "      <td>1.0</td>\n",
       "      <td>1.00</td>\n",
       "      <td>1.0</td>\n",
       "      <td>0.96</td>\n",
       "    </tr>\n",
       "    <tr>\n",
       "      <th>f1-score</th>\n",
       "      <td>0.97</td>\n",
       "      <td>0.97</td>\n",
       "      <td>0.86</td>\n",
       "      <td>0.87</td>\n",
       "      <td>1.0</td>\n",
       "      <td>1.0</td>\n",
       "      <td>0.97</td>\n",
       "      <td>1.0</td>\n",
       "      <td>0.97</td>\n",
       "      <td>1.0</td>\n",
       "      <td>0.96</td>\n",
       "    </tr>\n",
       "  </tbody>\n",
       "</table>\n",
       "</div>"
      ],
      "text/plain": [
       "           electricPanel  hoist  ladder  lift  overhead  push   sit  stand  \\\n",
       "precision           1.00   0.95    1.00  0.77       1.0   1.0  1.00    1.0   \n",
       "recall              0.94   1.00    0.75  1.00       1.0   1.0  0.94    1.0   \n",
       "f1-score            0.97   0.97    0.86  0.87       1.0   1.0  0.97    1.0   \n",
       "\n",
       "           type  walk  accuracy  \n",
       "precision  0.95   1.0      0.96  \n",
       "recall     1.00   1.0      0.96  \n",
       "f1-score   0.97   1.0      0.96  "
      ]
     },
     "execution_count": 11,
     "metadata": {},
     "output_type": "execute_result"
    }
   ],
   "source": [
    "report_df_dict[8]"
   ]
  },
  {
   "cell_type": "markdown",
   "id": "funny-fence",
   "metadata": {},
   "source": [
    "# Overal Test Subject Accuracy"
   ]
  },
  {
   "cell_type": "code",
   "execution_count": 343,
   "id": "personal-jamaica",
   "metadata": {},
   "outputs": [
    {
     "name": "stdout",
     "output_type": "stream",
     "text": [
      "0.9642160052049447\n"
     ]
    }
   ],
   "source": [
    "true_pred_dict_list = [true_pred_dict[key] for key in true_pred_dict.keys() if key!=19]\n",
    "test_true_pred_df = pd.concat(true_pred_dict_list, ignore_index=True)\n",
    "overall_test_acc = accuracy_score(test_true_pred_df.true, test_true_pred_df.predicted)\n",
    "print(overall_test_acc)"
   ]
  },
  {
   "cell_type": "code",
   "execution_count": null,
   "id": "empirical-privilege",
   "metadata": {},
   "outputs": [],
   "source": []
  }
 ],
 "metadata": {
  "kernelspec": {
   "display_name": "python-3.8",
   "language": "python",
   "name": "python-3.8"
  },
  "language_info": {
   "codemirror_mode": {
    "name": "ipython",
    "version": 3
   },
   "file_extension": ".py",
   "mimetype": "text/x-python",
   "name": "python",
   "nbconvert_exporter": "python",
   "pygments_lexer": "ipython3",
   "version": "3.8.8"
  }
 },
 "nbformat": 4,
 "nbformat_minor": 5
}
